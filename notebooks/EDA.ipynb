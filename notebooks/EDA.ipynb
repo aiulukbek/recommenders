{
 "cells": [
  {
   "cell_type": "code",
   "execution_count": 3,
   "metadata": {},
   "outputs": [
    {
     "data": {
      "text/plain": [
       "'/Users/ulukbek_attokurov/Documents/recommender/recommenders/notebooks'"
      ]
     },
     "execution_count": 3,
     "metadata": {},
     "output_type": "execute_result"
    }
   ],
   "source": [
    "pwd"
   ]
  },
  {
   "cell_type": "code",
   "execution_count": 4,
   "metadata": {},
   "outputs": [
    {
     "name": "stdout",
     "output_type": "stream",
     "text": [
      "/Users/ulukbek_attokurov/Documents/recommender/recommenders\n"
     ]
    }
   ],
   "source": [
    "cd .."
   ]
  },
  {
   "cell_type": "markdown",
   "metadata": {},
   "source": [
    "### Data Understanding"
   ]
  },
  {
   "cell_type": "code",
   "execution_count": 25,
   "metadata": {},
   "outputs": [],
   "source": [
    "# import libraries \n",
    "\n",
    "import pandas as pd \n",
    "from pathlib import Path \n",
    "from utils.readers import CSVReader\n",
    "\n"
   ]
  },
  {
   "cell_type": "code",
   "execution_count": 26,
   "metadata": {},
   "outputs": [],
   "source": [
    "# data reading \n",
    "\n",
    "dirname = Path(\"data\") \n",
    "\n",
    "file_name = Path(\"events.csv\") \n",
    "\n",
    "file_path = dirname / file_name\n",
    "\n",
    "events = CSVReader.read(str(file_path))"
   ]
  },
  {
   "cell_type": "code",
   "execution_count": 27,
   "metadata": {},
   "outputs": [
    {
     "data": {
      "text/plain": [
       "(2756101, 5)"
      ]
     },
     "execution_count": 27,
     "metadata": {},
     "output_type": "execute_result"
    }
   ],
   "source": [
    "events.shape"
   ]
  },
  {
   "cell_type": "code",
   "execution_count": 28,
   "metadata": {},
   "outputs": [
    {
     "data": {
      "text/html": [
       "<div>\n",
       "<style scoped>\n",
       "    .dataframe tbody tr th:only-of-type {\n",
       "        vertical-align: middle;\n",
       "    }\n",
       "\n",
       "    .dataframe tbody tr th {\n",
       "        vertical-align: top;\n",
       "    }\n",
       "\n",
       "    .dataframe thead th {\n",
       "        text-align: right;\n",
       "    }\n",
       "</style>\n",
       "<table border=\"1\" class=\"dataframe\">\n",
       "  <thead>\n",
       "    <tr style=\"text-align: right;\">\n",
       "      <th></th>\n",
       "      <th>timestamp</th>\n",
       "      <th>visitorid</th>\n",
       "      <th>event</th>\n",
       "      <th>itemid</th>\n",
       "      <th>transactionid</th>\n",
       "    </tr>\n",
       "  </thead>\n",
       "  <tbody>\n",
       "    <tr>\n",
       "      <th>0</th>\n",
       "      <td>1433221332117</td>\n",
       "      <td>257597</td>\n",
       "      <td>view</td>\n",
       "      <td>355908</td>\n",
       "      <td>NaN</td>\n",
       "    </tr>\n",
       "    <tr>\n",
       "      <th>1</th>\n",
       "      <td>1433224214164</td>\n",
       "      <td>992329</td>\n",
       "      <td>view</td>\n",
       "      <td>248676</td>\n",
       "      <td>NaN</td>\n",
       "    </tr>\n",
       "  </tbody>\n",
       "</table>\n",
       "</div>"
      ],
      "text/plain": [
       "       timestamp  visitorid event  itemid  transactionid\n",
       "0  1433221332117     257597  view  355908            NaN\n",
       "1  1433224214164     992329  view  248676            NaN"
      ]
     },
     "execution_count": 28,
     "metadata": {},
     "output_type": "execute_result"
    }
   ],
   "source": [
    "events.head(2)"
   ]
  },
  {
   "cell_type": "markdown",
   "metadata": {},
   "source": [
    "### Description of the columns \n",
    "\n",
    "- timestamp : event time \n",
    "- visitorid : user id  \n",
    "- event : event type \n",
    "- itemid: product id  \n",
    "- transaction_id : transaction id "
   ]
  },
  {
   "cell_type": "markdown",
   "metadata": {},
   "source": [
    "### Quality check "
   ]
  },
  {
   "cell_type": "code",
   "execution_count": 29,
   "metadata": {},
   "outputs": [],
   "source": [
    "# check timestamps \n",
    "\n",
    "dates = pd.to_datetime(events['timestamp'], unit = 'ms')"
   ]
  },
  {
   "cell_type": "code",
   "execution_count": 30,
   "metadata": {},
   "outputs": [
    {
     "data": {
      "text/plain": [
       "(Timestamp('2015-05-03 03:00:04.384000'),\n",
       " Timestamp('2015-09-18 02:59:47.788000'))"
      ]
     },
     "execution_count": 30,
     "metadata": {},
     "output_type": "execute_result"
    }
   ],
   "source": [
    "# it is stated in the data cart that the dataset contains events for 4.5 months \n",
    "# as it can be seen here we can validate them using proper datetime and thus we can convert into datetime format from unixtimestamp \n",
    "dates.min(), dates.max()"
   ]
  },
  {
   "cell_type": "code",
   "execution_count": 31,
   "metadata": {},
   "outputs": [],
   "source": [
    "events['dt'] = pd.to_datetime(events['timestamp'], unit = 'ms')"
   ]
  },
  {
   "cell_type": "code",
   "execution_count": 32,
   "metadata": {},
   "outputs": [
    {
     "data": {
      "text/plain": [
       "timestamp              0\n",
       "visitorid              0\n",
       "event                  0\n",
       "itemid                 0\n",
       "transactionid    2733644\n",
       "dt                     0\n",
       "dtype: int64"
      ]
     },
     "execution_count": 32,
     "metadata": {},
     "output_type": "execute_result"
    }
   ],
   "source": [
    "# missing values \n",
    "events.isnull().sum()"
   ]
  },
  {
   "cell_type": "code",
   "execution_count": 34,
   "metadata": {},
   "outputs": [
    {
     "data": {
      "text/plain": [
       "array(['view', 'addtocart', 'transaction'], dtype=object)"
      ]
     },
     "execution_count": 34,
     "metadata": {},
     "output_type": "execute_result"
    }
   ],
   "source": [
    "events.event.unique()"
   ]
  },
  {
   "cell_type": "code",
   "execution_count": 39,
   "metadata": {},
   "outputs": [
    {
     "data": {
      "text/plain": [
       "np.True_"
      ]
     },
     "execution_count": 39,
     "metadata": {},
     "output_type": "execute_result"
    }
   ],
   "source": [
    "# transaction ids are not null in transaction events and their counts match which is expected behavior \n",
    "events[events.event == \"transaction\"].transactionid.notnull().sum() == (events.shape[0] -  events.transactionid.isnull().sum())"
   ]
  },
  {
   "cell_type": "markdown",
   "metadata": {},
   "source": [
    "### Univariate Statistics "
   ]
  },
  {
   "cell_type": "code",
   "execution_count": 46,
   "metadata": {},
   "outputs": [
    {
     "name": "stdout",
     "output_type": "stream",
     "text": [
      "# of unique visitors 1407580 and # of unique products 235061\n"
     ]
    }
   ],
   "source": [
    "# unique visitors and unique products  \n",
    "\n",
    "\n",
    "unique_visitors = events.visitorid.nunique()\n",
    "\n",
    "unique_products = events.itemid.nunique()\n",
    "\n",
    "print(f\"# of unique visitors {unique_visitors} and # of unique products {unique_products}\")"
   ]
  },
  {
   "cell_type": "code",
   "execution_count": 48,
   "metadata": {},
   "outputs": [],
   "source": [
    "# event distributions \n",
    "\n",
    "event_distributions  =  events.event.value_counts()"
   ]
  },
  {
   "cell_type": "code",
   "execution_count": 51,
   "metadata": {},
   "outputs": [
    {
     "name": "stderr",
     "output_type": "stream",
     "text": [
      "Matplotlib is building the font cache; this may take a moment.\n"
     ]
    },
    {
     "data": {
      "text/plain": [
       "<Axes: ylabel='event'>"
      ]
     },
     "execution_count": 51,
     "metadata": {},
     "output_type": "execute_result"
    },
    {
     "data": {
      "image/png": "[encoded data removed]",
      "text/plain": [
       "<Figure size 640x480 with 1 Axes>"
      ]
     },
     "metadata": {},
     "output_type": "display_data"
    }
   ],
   "source": [
    "event_distributions.plot(kind = 'barh')"
   ]
  },
  {
   "cell_type": "markdown",
   "metadata": {},
   "source": [
    "Events distributions has expected behaviour: view events are prevalent and transaction events are rare, sparse. "
   ]
  },
  {
   "cell_type": "markdown",
   "metadata": {},
   "source": [
    "### Bivariate statistics "
   ]
  },
  {
   "cell_type": "code",
   "execution_count": 52,
   "metadata": {},
   "outputs": [],
   "source": [
    "# general statistics \n",
    "\n",
    "events_per_visitor = events.groupby(\"visitorid\")['event'].count()"
   ]
  },
  {
   "cell_type": "code",
   "execution_count": 64,
   "metadata": {},
   "outputs": [],
   "source": [
    "# events per day : to detect bots , they can create noisy events \n",
    "\n",
    "event_stats = events_per_visitor.value_counts() / unique_visitors "
   ]
  },
  {
   "cell_type": "markdown",
   "metadata": {},
   "source": [
    "It seems that more than 70% of visitors generate one event ! "
   ]
  },
  {
   "cell_type": "code",
   "execution_count": 66,
   "metadata": {},
   "outputs": [
    {
     "data": {
      "text/plain": [
       "event\n",
       "1       7.115475e-01\n",
       "2       1.463448e-01\n",
       "3       5.655949e-02\n",
       "4       2.756220e-02\n",
       "5       1.631666e-02\n",
       "            ...     \n",
       "178     7.104392e-07\n",
       "1614    7.104392e-07\n",
       "726     7.104392e-07\n",
       "463     7.104392e-07\n",
       "469     7.104392e-07\n",
       "Name: count, Length: 343, dtype: float64"
      ]
     },
     "execution_count": 66,
     "metadata": {},
     "output_type": "execute_result"
    }
   ],
   "source": [
    "event_stats"
   ]
  },
  {
   "cell_type": "code",
   "execution_count": 73,
   "metadata": {},
   "outputs": [],
   "source": [
    "event_stats = event_stats.reset_index()"
   ]
  },
  {
   "cell_type": "code",
   "execution_count": 76,
   "metadata": {},
   "outputs": [],
   "source": [
    "expected_event_per_visitor = (event_stats['event'] * event_stats['count']).sum()"
   ]
  },
  {
   "cell_type": "code",
   "execution_count": 77,
   "metadata": {},
   "outputs": [
    {
     "name": "stdout",
     "output_type": "stream",
     "text": [
      "Expected number of events per visitor : 1.9580421716705267\n"
     ]
    }
   ],
   "source": [
    "print(f\"Expected number of events per visitor : {expected_event_per_visitor}\")"
   ]
  },
  {
   "cell_type": "code",
   "execution_count": 155,
   "metadata": {},
   "outputs": [],
   "source": [
    "# visitor distributions per event type \n",
    "\n",
    "\n",
    "view_visitors = events[events.event == 'view'].visitorid.unique() \n",
    "\n",
    "addtocart_visitors = events[events.event == 'addtocart'].visitorid.unique() \n",
    "\n",
    "transaction_visitors = events[events.event == 'transaction'].visitorid.unique() "
   ]
  },
  {
   "cell_type": "code",
   "execution_count": 84,
   "metadata": {},
   "outputs": [],
   "source": [
    "# general CR in terms of addtocart and transactions \n",
    "\n",
    "number_of_addtocart_visitors = len(addtocart_visitors) \n",
    "\n",
    "number_of_transaction_visitors = len(transaction_visitors) \n",
    "\n",
    "number_of_view_visitors = len(view_visitors)\n",
    "\n",
    "CR_addtocart = number_of_addtocart_visitors / number_of_view_visitors\n",
    "\n",
    "CR_transaction = number_of_transaction_visitors / number_of_view_visitors \n",
    "\n",
    "bounce_rate = number_of_transaction_visitors / number_of_addtocart_visitors "
   ]
  },
  {
   "cell_type": "code",
   "execution_count": 86,
   "metadata": {},
   "outputs": [
    {
     "name": "stdout",
     "output_type": "stream",
     "text": [
      "Number of vistors (view) : 1404179 \n",
      " \n",
      "          Number of visitors (addtocart) : 37722 \n",
      " \n",
      "\n",
      "          Number of visitors (transactions) : 11719\n",
      "\n",
      "\n",
      "\n"
     ]
    }
   ],
   "source": [
    "print(f\"\"\"Number of vistors (view) : {number_of_view_visitors} \\n \n",
    "          Number of visitors (addtocart) : {number_of_addtocart_visitors} \\n \n",
    "\n",
    "          Number of visitors (transactions) : {number_of_transaction_visitors}\n",
    "\n",
    "\n",
    "\"\"\")"
   ]
  },
  {
   "cell_type": "code",
   "execution_count": 87,
   "metadata": {},
   "outputs": [
    {
     "name": "stdout",
     "output_type": "stream",
     "text": [
      "CR(Add to cart) : 0.026864096386571796 , \n",
      " CR(transaction) : 0.008345802066545647 \n",
      " bounce rate : 0.6893324850220031\n"
     ]
    }
   ],
   "source": [
    "print(f\"CR(Add to cart) : {CR_addtocart} , \\n CR(transaction) : {CR_transaction} \\n bounce rate : {1- bounce_rate}\")"
   ]
  },
  {
   "cell_type": "markdown",
   "metadata": {},
   "source": [
    "### General CR \n",
    "\n",
    "- add to cart rate is around 2% is lower taking into account the number of unique visitors and number of unique products. One of the most probable reasons might be one timers who visit the website by advertisement as the number of visitors with one event is high. They might click the product on social networks, search engines and redirected to the main website. However they are not making any purchase or any events on the website ! It might be caused by advertisements and campaigns ! \n",
    "\n",
    "- CR rate is very low as well: it should be increased using personalization techniques and proper advertising \n",
    "\n",
    "bounce rate (a visitor adding the product into the basket but not making purchase)  is very high (70%) ! it may sign that the users can not make selection among the huge number of options . In this case also proper personalization on product detail page and add to cart page should be handled! "
   ]
  },
  {
   "cell_type": "markdown",
   "metadata": {},
   "source": [
    "# CR in terms of unique visitor ids  "
   ]
  },
  {
   "cell_type": "code",
   "execution_count": 168,
   "metadata": {},
   "outputs": [],
   "source": [
    "# import modules  \n",
    "\n",
    "from utils.converters import convert_to_list\n",
    "from utils.conversion import VisitorCR"
   ]
  },
  {
   "cell_type": "code",
   "execution_count": 157,
   "metadata": {},
   "outputs": [],
   "source": [
    "# format visitors \n",
    "\n",
    "transaction_visitors = convert_to_list(transaction_visitors) \n",
    "\n",
    "addtocart_visitors = convert_to_list(addtocart_visitors) \n",
    "\n",
    "view_visitors = convert_to_list(view_visitors)"
   ]
  },
  {
   "cell_type": "code",
   "execution_count": 169,
   "metadata": {},
   "outputs": [],
   "source": [
    "visitor_cr = VisitorCR(view_visitors, addtocart_visitors, transaction_visitors)"
   ]
  },
  {
   "cell_type": "code",
   "execution_count": 170,
   "metadata": {},
   "outputs": [],
   "source": [
    "# conversion stats \n",
    "\n",
    "visitor_to_addtocart = visitor_cr.cr_visitors_to_addtocart()\n",
    "visitors_to_purchae = visitor_cr.cr_visitors_to_purchase()\n",
    "addtocart_to_purchase = visitor_cr.cr_addtocart_to_purchase()\n",
    "neveractives = visitor_cr.visitors_only() / len(view_visitors)"
   ]
  },
  {
   "cell_type": "code",
   "execution_count": 171,
   "metadata": {},
   "outputs": [
    {
     "name": "stdout",
     "output_type": "stream",
     "text": [
      "\n",
      "    Visitors to Addtocart : 0.024499013302435087 \n",
      "    Visitors to Purchase: 0.008040997622098037 \n",
      "    Addtocart to Purchase: 0.28036689465033665\n",
      "    NeverActives : 0.9755009866975649\n",
      "\n",
      "\n",
      "\n"
     ]
    }
   ],
   "source": [
    "print(f\"\"\"\n",
    "    Visitors to Addtocart : {visitor_to_addtocart} \n",
    "    Visitors to Purchase: {visitors_to_purchae} \n",
    "    Addtocart to Purchase: {addtocart_to_purchase}\n",
    "    NeverActives : {neveractives}\n",
    "\n",
    "\n",
    "\"\"\" )"
   ]
  },
  {
   "cell_type": "markdown",
   "metadata": {},
   "source": [
    "### Insights \n",
    "\n",
    "- 2% of visitors are engaged in terms of add to carts \n",
    "- 0.8% of visitors are converted to customers \n",
    "- 72% of visitors who added to basket not purchased (Cart Abandonment Rate is high) \n",
    "- 98% of visitors are never actives (never made any purchase)\n",
    "\n",
    "Those statistics state that visitors are not engaged in the products and can not converted into customers ! \n",
    "\n",
    "Thus personalization strategies with recommendation engines should be employed to increase conversion rate and decrease Cart Abandonment Rate! \n"
   ]
  },
  {
   "cell_type": "markdown",
   "metadata": {},
   "source": [
    "### Product analytics"
   ]
  },
  {
   "cell_type": "code",
   "execution_count": 263,
   "metadata": {},
   "outputs": [],
   "source": [
    "# wwhat is the event distribution of pproducts \n",
    "\n",
    "product_stats = events[['visitorid', 'itemid', 'event']].drop_duplicates().groupby(\"itemid\")['event'].value_counts().unstack(1).fillna(0)"
   ]
  },
  {
   "cell_type": "code",
   "execution_count": 278,
   "metadata": {},
   "outputs": [],
   "source": [
    "product_stats['traffic_distribution'] = product_stats.view / product_stats.view.sum()"
   ]
  },
  {
   "cell_type": "markdown",
   "metadata": {},
   "source": [
    "Events are too sparse as it can be seen on the plot !"
   ]
  },
  {
   "cell_type": "markdown",
   "metadata": {},
   "source": [
    "### Popular visited products"
   ]
  },
  {
   "cell_type": "code",
   "execution_count": 279,
   "metadata": {},
   "outputs": [
    {
     "data": {
      "image/png": "[encoded data removed]",
      "text/plain": [
       "<Figure size 640x480 with 1 Axes>"
      ]
     },
     "metadata": {},
     "output_type": "display_data"
    }
   ],
   "source": [
    "most_popular_products = product_stats.sort_values(ascending= True, by = 'view').traffic_distribution.reset_index(drop = True).cumsum().plot(kind = 'line')"
   ]
  },
  {
   "cell_type": "markdown",
   "metadata": {},
   "source": [
    "As shown on the plot less number of products are dominating the traffic and we have to undersand which products are "
   ]
  },
  {
   "cell_type": "code",
   "execution_count": 282,
   "metadata": {},
   "outputs": [
    {
     "data": {
      "text/plain": [
       "<Axes: >"
      ]
     },
     "execution_count": 282,
     "metadata": {},
     "output_type": "execute_result"
    },
    {
     "data": {
      "image/png": "[encoded data removed]",
      "text/plain": [
       "<Figure size 640x480 with 1 Axes>"
      ]
     },
     "metadata": {},
     "output_type": "display_data"
    }
   ],
   "source": [
    "product_stats.sort_values(by = \"traffic_distribution\", ascending = False)['traffic_distribution'].cumsum().reset_index(drop = True).plot(kind = 'line')"
   ]
  },
  {
   "cell_type": "markdown",
   "metadata": {},
   "source": [
    "First 100000 products are generating 85% of the traffic ! "
   ]
  },
  {
   "cell_type": "code",
   "execution_count": 291,
   "metadata": {},
   "outputs": [
    {
     "data": {
      "text/plain": [
       "<Axes: xlabel='view'>"
      ]
     },
     "execution_count": 291,
     "metadata": {},
     "output_type": "execute_result"
    },
    {
     "data": {
      "image/png": "[encoded data removed]",
      "text/plain": [
       "<Figure size 640x480 with 1 Axes>"
      ]
     },
     "metadata": {},
     "output_type": "display_data"
    }
   ],
   "source": [
    "product_view_counts = product_stats.view.value_counts() / product_stats.shape[0] * 100\n",
    "\n",
    "\n",
    "product_view_counts.cumsum().plot(kind = 'line')"
   ]
  },
  {
   "cell_type": "markdown",
   "metadata": {},
   "source": [
    "35% of the product generating only one event which means they might cause noise in recommendations !"
   ]
  },
  {
   "cell_type": "code",
   "execution_count": 298,
   "metadata": {},
   "outputs": [
    {
     "name": "stderr",
     "output_type": "stream",
     "text": [
      "/var/folders/6_/4h_8_hc94y7cxqq2l4fcz6fm0000gn/T/ipykernel_1788/495054536.py:1: FutureWarning:\n",
      "\n",
      "The behavior of obj[i:j] with a float-dtype index is deprecated. In a future version, this will be treated as positional instead of label-based. For label-based slicing, use obj.loc[i:j] instead\n",
      "\n"
     ]
    },
    {
     "data": {
      "text/plain": [
       "np.float64(81.60222240184461)"
      ]
     },
     "execution_count": 298,
     "metadata": {},
     "output_type": "execute_result"
    }
   ],
   "source": [
    "product_view_counts[:10].sum()"
   ]
  },
  {
   "cell_type": "markdown",
   "metadata": {},
   "source": [
    "80% of the products can have no more than 10 views !"
   ]
  },
  {
   "cell_type": "markdown",
   "metadata": {},
   "source": [
    "# All of the stated stats means that we have sparse dataset in terms of views , purchase etc. !!! "
   ]
  },
  {
   "cell_type": "code",
   "execution_count": null,
   "metadata": {},
   "outputs": [],
   "source": []
  },
  {
   "cell_type": "code",
   "execution_count": 276,
   "metadata": {},
   "outputs": [
    {
     "data": {
      "text/plain": [
       "<Axes: >"
      ]
     },
     "execution_count": 276,
     "metadata": {},
     "output_type": "execute_result"
    }
   ],
   "source": [
    "most_popular_products"
   ]
  },
  {
   "cell_type": "code",
   "execution_count": 246,
   "metadata": {},
   "outputs": [],
   "source": [
    "import matplotlib.pyplot as plt\n",
    "product_visits = events.itemid.value_counts()\n",
    "\n",
    "cumulative_sum = product_visits.reset_index(drop = True).cumsum()\n",
    "\n",
    "\n"
   ]
  },
  {
   "cell_type": "code",
   "execution_count": 252,
   "metadata": {},
   "outputs": [
    {
     "data": {
      "text/plain": [
       "count    235061.000000\n",
       "mean         11.725046\n",
       "std          37.032101\n",
       "min           1.000000\n",
       "25%           1.000000\n",
       "50%           3.000000\n",
       "75%           9.000000\n",
       "max        3412.000000\n",
       "Name: count, dtype: float64"
      ]
     },
     "execution_count": 252,
     "metadata": {},
     "output_type": "execute_result"
    }
   ],
   "source": [
    "product_visits.describe()"
   ]
  },
  {
   "cell_type": "code",
   "execution_count": 248,
   "metadata": {},
   "outputs": [
    {
     "data": {
      "image/png": "[encoded data removed]",
      "text/plain": [
       "<Figure size 1000x800 with 1 Axes>"
      ]
     },
     "metadata": {},
     "output_type": "display_data"
    }
   ],
   "source": [
    "\n",
    "# Plot the cumulative sum\n",
    "\n",
    "plt.figure(figsize = (10, 8))\n",
    "cumulative_sum.plot(kind='line', marker='o', linestyle='-', color='blue')\n",
    "\n",
    "# Add labels and title\n",
    "plt.xlabel(\"Index\")\n",
    "plt.ylabel(\"Cumulative Sum\")\n",
    "plt.title(\"Cumulative Sum Plot of a Series\")\n",
    "plt.grid(True)\n",
    "plt.show()"
   ]
  },
  {
   "cell_type": "markdown",
   "metadata": {},
   "source": [
    "# let us have a look for statistics of customers with purchase distributions \n",
    "\n",
    "\n"
   ]
  },
  {
   "cell_type": "code",
   "execution_count": null,
   "metadata": {},
   "outputs": [],
   "source": []
  },
  {
   "cell_type": "code",
   "execution_count": 183,
   "metadata": {},
   "outputs": [],
   "source": [
    "transaction_customer_count = events.groupby(\"visitorid\")['itemid'].nunique().value_counts().reset_index()"
   ]
  },
  {
   "cell_type": "code",
   "execution_count": 186,
   "metadata": {},
   "outputs": [],
   "source": [
    "transaction_customer_count.columns = ['number_of_products', \"number_of_customers\"]"
   ]
  },
  {
   "cell_type": "code",
   "execution_count": 206,
   "metadata": {},
   "outputs": [],
   "source": [
    "transaction_customer_count['percentage_of_customers'] = transaction_customer_count['number_of_customers'] / events.visitorid.nunique()"
   ]
  },
  {
   "cell_type": "code",
   "execution_count": 209,
   "metadata": {},
   "outputs": [
    {
     "data": {
      "text/plain": [
       "np.float64(0.9808287983631481)"
      ]
     },
     "execution_count": 209,
     "metadata": {},
     "output_type": "execute_result"
    }
   ],
   "source": [
    "# top 5 \n",
    "\n",
    "top5 = transaction_customer_count.percentage_of_customers.iloc[: 5].sum()\n",
    "\n",
    "top5"
   ]
  },
  {
   "cell_type": "markdown",
   "metadata": {},
   "source": [
    "98% of customers purchased maximum 5 unique products ! "
   ]
  },
  {
   "cell_type": "code",
   "execution_count": 210,
   "metadata": {},
   "outputs": [
    {
     "data": {
      "text/plain": [
       "<Axes: xlabel='number_of_products', ylabel='percentage_of_customers'>"
      ]
     },
     "execution_count": 210,
     "metadata": {},
     "output_type": "execute_result"
    },
    {
     "data": {
      "image/png": "[encoded data removed]",
      "text/plain": [
       "<Figure size 640x480 with 1 Axes>"
      ]
     },
     "metadata": {},
     "output_type": "display_data"
    }
   ],
   "source": [
    "import seaborn as sns  \n",
    "\n",
    "\n",
    "sns.barplot(transaction_customer_count.iloc[:5] , x = \"number_of_products\", y = \"percentage_of_customers\")"
   ]
  },
  {
   "cell_type": "code",
   "execution_count": 211,
   "metadata": {},
   "outputs": [
    {
     "data": {
      "text/plain": [
       "<Axes: xlabel='number_of_products', ylabel='percentage_of_customers'>"
      ]
     },
     "execution_count": 211,
     "metadata": {},
     "output_type": "execute_result"
    },
    {
     "data": {
      "image/png": "[encoded data removed]",
      "text/plain": [
       "<Figure size 640x480 with 1 Axes>"
      ]
     },
     "metadata": {},
     "output_type": "display_data"
    }
   ],
   "source": [
    "import seaborn as sns  \n",
    "\n",
    "\n",
    "sns.barplot(transaction_customer_count.iloc[5: 10] , x = \"number_of_products\", y = \"percentage_of_customers\")"
   ]
  },
  {
   "cell_type": "code",
   "execution_count": 214,
   "metadata": {},
   "outputs": [
    {
     "data": {
      "text/plain": [
       "<Axes: xlabel='number_of_products', ylabel='percentage_of_customers'>"
      ]
     },
     "execution_count": 214,
     "metadata": {},
     "output_type": "execute_result"
    },
    {
     "data": {
      "image/png": "[encoded data removed]",
      "text/plain": [
       "<Figure size 640x480 with 1 Axes>"
      ]
     },
     "metadata": {},
     "output_type": "display_data"
    }
   ],
   "source": [
    "import seaborn as sns  \n",
    "\n",
    "\n",
    "sns.barplot(transaction_customer_count.iloc[10: 50] , x = \"number_of_products\", y = \"percentage_of_customers\")"
   ]
  },
  {
   "cell_type": "code",
   "execution_count": 215,
   "metadata": {},
   "outputs": [
    {
     "data": {
      "text/plain": [
       "<Axes: xlabel='number_of_products', ylabel='percentage_of_customers'>"
      ]
     },
     "execution_count": 215,
     "metadata": {},
     "output_type": "execute_result"
    },
    {
     "data": {
      "image/png": "[encoded data removed]",
      "text/plain": [
       "<Figure size 640x480 with 1 Axes>"
      ]
     },
     "metadata": {},
     "output_type": "display_data"
    }
   ],
   "source": [
    "import seaborn as sns  \n",
    "\n",
    "\n",
    "sns.barplot(transaction_customer_count.iloc[50:] , x = \"number_of_products\", y = \"percentage_of_customers\")"
   ]
  },
  {
   "cell_type": "markdown",
   "metadata": {},
   "source": [
    "Customers with unique products purchased more than 20 can be eliminated from the "
   ]
  },
  {
   "cell_type": "code",
   "execution_count": 225,
   "metadata": {},
   "outputs": [
    {
     "data": {
      "text/html": [
       "<div>\n",
       "<style scoped>\n",
       "    .dataframe tbody tr th:only-of-type {\n",
       "        vertical-align: middle;\n",
       "    }\n",
       "\n",
       "    .dataframe tbody tr th {\n",
       "        vertical-align: top;\n",
       "    }\n",
       "\n",
       "    .dataframe thead th {\n",
       "        text-align: right;\n",
       "    }\n",
       "</style>\n",
       "<table border=\"1\" class=\"dataframe\">\n",
       "  <thead>\n",
       "    <tr style=\"text-align: right;\">\n",
       "      <th></th>\n",
       "      <th>number_of_products</th>\n",
       "      <th>number_of_customers</th>\n",
       "      <th>percentage_of_customers</th>\n",
       "    </tr>\n",
       "  </thead>\n",
       "  <tbody>\n",
       "    <tr>\n",
       "      <th>9</th>\n",
       "      <td>10</td>\n",
       "      <td>1660</td>\n",
       "      <td>1.179329e-03</td>\n",
       "    </tr>\n",
       "    <tr>\n",
       "      <th>10</th>\n",
       "      <td>11</td>\n",
       "      <td>1235</td>\n",
       "      <td>8.773924e-04</td>\n",
       "    </tr>\n",
       "    <tr>\n",
       "      <th>11</th>\n",
       "      <td>12</td>\n",
       "      <td>1061</td>\n",
       "      <td>7.537760e-04</td>\n",
       "    </tr>\n",
       "    <tr>\n",
       "      <th>12</th>\n",
       "      <td>13</td>\n",
       "      <td>720</td>\n",
       "      <td>5.115162e-04</td>\n",
       "    </tr>\n",
       "    <tr>\n",
       "      <th>13</th>\n",
       "      <td>14</td>\n",
       "      <td>608</td>\n",
       "      <td>4.319470e-04</td>\n",
       "    </tr>\n",
       "    <tr>\n",
       "      <th>...</th>\n",
       "      <td>...</td>\n",
       "      <td>...</td>\n",
       "      <td>...</td>\n",
       "    </tr>\n",
       "    <tr>\n",
       "      <th>264</th>\n",
       "      <td>280</td>\n",
       "      <td>1</td>\n",
       "      <td>7.104392e-07</td>\n",
       "    </tr>\n",
       "    <tr>\n",
       "      <th>265</th>\n",
       "      <td>818</td>\n",
       "      <td>1</td>\n",
       "      <td>7.104392e-07</td>\n",
       "    </tr>\n",
       "    <tr>\n",
       "      <th>266</th>\n",
       "      <td>206</td>\n",
       "      <td>1</td>\n",
       "      <td>7.104392e-07</td>\n",
       "    </tr>\n",
       "    <tr>\n",
       "      <th>267</th>\n",
       "      <td>2209</td>\n",
       "      <td>1</td>\n",
       "      <td>7.104392e-07</td>\n",
       "    </tr>\n",
       "    <tr>\n",
       "      <th>268</th>\n",
       "      <td>262</td>\n",
       "      <td>1</td>\n",
       "      <td>7.104392e-07</td>\n",
       "    </tr>\n",
       "  </tbody>\n",
       "</table>\n",
       "<p>260 rows × 3 columns</p>\n",
       "</div>"
      ],
      "text/plain": [
       "     number_of_products  number_of_customers  percentage_of_customers\n",
       "9                    10                 1660             1.179329e-03\n",
       "10                   11                 1235             8.773924e-04\n",
       "11                   12                 1061             7.537760e-04\n",
       "12                   13                  720             5.115162e-04\n",
       "13                   14                  608             4.319470e-04\n",
       "..                  ...                  ...                      ...\n",
       "264                 280                    1             7.104392e-07\n",
       "265                 818                    1             7.104392e-07\n",
       "266                 206                    1             7.104392e-07\n",
       "267                2209                    1             7.104392e-07\n",
       "268                 262                    1             7.104392e-07\n",
       "\n",
       "[260 rows x 3 columns]"
      ]
     },
     "execution_count": 225,
     "metadata": {},
     "output_type": "execute_result"
    }
   ],
   "source": [
    "transaction_customer_count[transaction_customer_count.number_of_products >= 10]"
   ]
  },
  {
   "cell_type": "markdown",
   "metadata": {},
   "source": [
    "# Transaction data seems to be very sparse: and thus we can consider view data in order to generate some recommendations . "
   ]
  },
  {
   "cell_type": "code",
   "execution_count": null,
   "metadata": {},
   "outputs": [],
   "source": []
  }
 ],
 "metadata": {
  "kernelspec": {
   "display_name": "recommenders",
   "language": "python",
   "name": "python3"
  },
  "language_info": {
   "codemirror_mode": {
    "name": "ipython",
    "version": 3
   },
   "file_extension": ".py",
   "mimetype": "text/x-python",
   "name": "python",
   "nbconvert_exporter": "python",
   "pygments_lexer": "ipython3",
   "version": "3.13.2"
  }
 },
 "nbformat": 4,
 "nbformat_minor": 2
}
