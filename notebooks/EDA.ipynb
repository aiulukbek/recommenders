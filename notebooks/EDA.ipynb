{
 "cells": [
  {
   "cell_type": "code",
   "execution_count": 3,
   "metadata": {},
   "outputs": [
    {
     "data": {
      "text/plain": [
       "'/Users/ulukbek_attokurov/Documents/recommender/recommenders/notebooks'"
      ]
     },
     "execution_count": 3,
     "metadata": {},
     "output_type": "execute_result"
    }
   ],
   "source": [
    "pwd"
   ]
  },
  {
   "cell_type": "code",
   "execution_count": 4,
   "metadata": {},
   "outputs": [
    {
     "name": "stdout",
     "output_type": "stream",
     "text": [
      "/Users/ulukbek_attokurov/Documents/recommender/recommenders\n"
     ]
    }
   ],
   "source": [
    "cd .."
   ]
  },
  {
   "cell_type": "markdown",
   "metadata": {},
   "source": [
    "### Data Understanding"
   ]
  },
  {
   "cell_type": "code",
   "execution_count": 25,
   "metadata": {},
   "outputs": [],
   "source": [
    "# import libraries \n",
    "\n",
    "import pandas as pd \n",
    "from pathlib import Path \n",
    "from utils.readers import CSVReader\n",
    "\n"
   ]
  },
  {
   "cell_type": "code",
   "execution_count": 26,
   "metadata": {},
   "outputs": [],
   "source": [
    "# data reading \n",
    "\n",
    "dirname = Path(\"data\") \n",
    "\n",
    "file_name = Path(\"events.csv\") \n",
    "\n",
    "file_path = dirname / file_name\n",
    "\n",
    "events = CSVReader.read(str(file_path))"
   ]
  },
  {
   "cell_type": "code",
   "execution_count": 27,
   "metadata": {},
   "outputs": [
    {
     "data": {
      "text/plain": [
       "(2756101, 5)"
      ]
     },
     "execution_count": 27,
     "metadata": {},
     "output_type": "execute_result"
    }
   ],
   "source": [
    "events.shape"
   ]
  },
  {
   "cell_type": "code",
   "execution_count": 28,
   "metadata": {},
   "outputs": [
    {
     "data": {
      "text/html": [
       "<div>\n",
       "<style scoped>\n",
       "    .dataframe tbody tr th:only-of-type {\n",
       "        vertical-align: middle;\n",
       "    }\n",
       "\n",
       "    .dataframe tbody tr th {\n",
       "        vertical-align: top;\n",
       "    }\n",
       "\n",
       "    .dataframe thead th {\n",
       "        text-align: right;\n",
       "    }\n",
       "</style>\n",
       "<table border=\"1\" class=\"dataframe\">\n",
       "  <thead>\n",
       "    <tr style=\"text-align: right;\">\n",
       "      <th></th>\n",
       "      <th>timestamp</th>\n",
       "      <th>visitorid</th>\n",
       "      <th>event</th>\n",
       "      <th>itemid</th>\n",
       "      <th>transactionid</th>\n",
       "    </tr>\n",
       "  </thead>\n",
       "  <tbody>\n",
       "    <tr>\n",
       "      <th>0</th>\n",
       "      <td>1433221332117</td>\n",
       "      <td>257597</td>\n",
       "      <td>view</td>\n",
       "      <td>355908</td>\n",
       "      <td>NaN</td>\n",
       "    </tr>\n",
       "    <tr>\n",
       "      <th>1</th>\n",
       "      <td>1433224214164</td>\n",
       "      <td>992329</td>\n",
       "      <td>view</td>\n",
       "      <td>248676</td>\n",
       "      <td>NaN</td>\n",
       "    </tr>\n",
       "  </tbody>\n",
       "</table>\n",
       "</div>"
      ],
      "text/plain": [
       "       timestamp  visitorid event  itemid  transactionid\n",
       "0  1433221332117     257597  view  355908            NaN\n",
       "1  1433224214164     992329  view  248676            NaN"
      ]
     },
     "execution_count": 28,
     "metadata": {},
     "output_type": "execute_result"
    }
   ],
   "source": [
    "events.head(2)"
   ]
  },
  {
   "cell_type": "markdown",
   "metadata": {},
   "source": [
    "### Description of the columns \n",
    "\n",
    "- timestamp : event time \n",
    "- visitorid : user id  \n",
    "- event : event type \n",
    "- itemid: product id  \n",
    "- transaction_id : transaction id "
   ]
  },
  {
   "cell_type": "markdown",
   "metadata": {},
   "source": [
    "### Quality check "
   ]
  },
  {
   "cell_type": "code",
   "execution_count": 29,
   "metadata": {},
   "outputs": [],
   "source": [
    "# check timestamps \n",
    "\n",
    "dates = pd.to_datetime(events['timestamp'], unit = 'ms')"
   ]
  },
  {
   "cell_type": "code",
   "execution_count": 30,
   "metadata": {},
   "outputs": [
    {
     "data": {
      "text/plain": [
       "(Timestamp('2015-05-03 03:00:04.384000'),\n",
       " Timestamp('2015-09-18 02:59:47.788000'))"
      ]
     },
     "execution_count": 30,
     "metadata": {},
     "output_type": "execute_result"
    }
   ],
   "source": [
    "# it is stated in the data cart that the dataset contains events for 4.5 months \n",
    "# as it can be seen here we can validate them using proper datetime and thus we can convert into datetime format from unixtimestamp \n",
    "dates.min(), dates.max()"
   ]
  },
  {
   "cell_type": "code",
   "execution_count": 31,
   "metadata": {},
   "outputs": [],
   "source": [
    "events['dt'] = pd.to_datetime(events['timestamp'], unit = 'ms')"
   ]
  },
  {
   "cell_type": "code",
   "execution_count": 32,
   "metadata": {},
   "outputs": [
    {
     "data": {
      "text/plain": [
       "timestamp              0\n",
       "visitorid              0\n",
       "event                  0\n",
       "itemid                 0\n",
       "transactionid    2733644\n",
       "dt                     0\n",
       "dtype: int64"
      ]
     },
     "execution_count": 32,
     "metadata": {},
     "output_type": "execute_result"
    }
   ],
   "source": [
    "# missing values \n",
    "events.isnull().sum()"
   ]
  },
  {
   "cell_type": "code",
   "execution_count": 34,
   "metadata": {},
   "outputs": [
    {
     "data": {
      "text/plain": [
       "array(['view', 'addtocart', 'transaction'], dtype=object)"
      ]
     },
     "execution_count": 34,
     "metadata": {},
     "output_type": "execute_result"
    }
   ],
   "source": [
    "events.event.unique()"
   ]
  },
  {
   "cell_type": "code",
   "execution_count": 39,
   "metadata": {},
   "outputs": [
    {
     "data": {
      "text/plain": [
       "np.True_"
      ]
     },
     "execution_count": 39,
     "metadata": {},
     "output_type": "execute_result"
    }
   ],
   "source": [
    "# transaction ids are not null in transaction events and their counts match which is expected behavior \n",
    "events[events.event == \"transaction\"].transactionid.notnull().sum() == (events.shape[0] -  events.transactionid.isnull().sum())"
   ]
  },
  {
   "cell_type": "markdown",
   "metadata": {},
   "source": [
    "### Univariate Statistics "
   ]
  },
  {
   "cell_type": "code",
   "execution_count": 46,
   "metadata": {},
   "outputs": [
    {
     "name": "stdout",
     "output_type": "stream",
     "text": [
      "# of unique visitors 1407580 and # of unique products 235061\n"
     ]
    }
   ],
   "source": [
    "# unique visitors and unique products  \n",
    "\n",
    "\n",
    "unique_visitors = events.visitorid.nunique()\n",
    "\n",
    "unique_products = events.itemid.nunique()\n",
    "\n",
    "print(f\"# of unique visitors {unique_visitors} and # of unique products {unique_products}\")"
   ]
  },
  {
   "cell_type": "code",
   "execution_count": 48,
   "metadata": {},
   "outputs": [],
   "source": [
    "# event distributions \n",
    "\n",
    "event_distributions  =  events.event.value_counts()"
   ]
  },
  {
   "cell_type": "code",
   "execution_count": 51,
   "metadata": {},
   "outputs": [
    {
     "name": "stderr",
     "output_type": "stream",
     "text": [
      "Matplotlib is building the font cache; this may take a moment.\n"
     ]
    },
    {
     "data": {
      "text/plain": [
       "<Axes: ylabel='event'>"
      ]
     },
     "execution_count": 51,
     "metadata": {},
     "output_type": "execute_result"
    },
    {
     "data": {
      "image/png": "[encoded data removed]",
      "text/plain": [
       "<Figure size 640x480 with 1 Axes>"
      ]
     },
     "metadata": {},
     "output_type": "display_data"
    }
   ],
   "source": [
    "event_distributions.plot(kind = 'barh')"
   ]
  },
  {
   "cell_type": "markdown",
   "metadata": {},
   "source": [
    "Events distributions has expected behaviour: view events are prevalent and transaction events are rare, sparse. "
   ]
  },
  {
   "cell_type": "markdown",
   "metadata": {},
   "source": [
    "### Bivariate statistics "
   ]
  },
  {
   "cell_type": "code",
   "execution_count": 52,
   "metadata": {},
   "outputs": [],
   "source": [
    "# general statistics \n",
    "\n",
    "events_per_visitor = events.groupby(\"visitorid\")['event'].count()"
   ]
  },
  {
   "cell_type": "code",
   "execution_count": 64,
   "metadata": {},
   "outputs": [],
   "source": [
    "# events per day : to detect bots , they can create noisy events \n",
    "\n",
    "event_stats = events_per_visitor.value_counts() / unique_visitors "
   ]
  },
  {
   "cell_type": "markdown",
   "metadata": {},
   "source": [
    "It seems that more than 70% of visitors generate one event ! "
   ]
  },
  {
   "cell_type": "code",
   "execution_count": 66,
   "metadata": {},
   "outputs": [
    {
     "data": {
      "text/plain": [
       "event\n",
       "1       7.115475e-01\n",
       "2       1.463448e-01\n",
       "3       5.655949e-02\n",
       "4       2.756220e-02\n",
       "5       1.631666e-02\n",
       "            ...     \n",
       "178     7.104392e-07\n",
       "1614    7.104392e-07\n",
       "726     7.104392e-07\n",
       "463     7.104392e-07\n",
       "469     7.104392e-07\n",
       "Name: count, Length: 343, dtype: float64"
      ]
     },
     "execution_count": 66,
     "metadata": {},
     "output_type": "execute_result"
    }
   ],
   "source": [
    "event_stats"
   ]
  },
  {
   "cell_type": "code",
   "execution_count": 73,
   "metadata": {},
   "outputs": [],
   "source": [
    "event_stats = event_stats.reset_index()"
   ]
  },
  {
   "cell_type": "code",
   "execution_count": 76,
   "metadata": {},
   "outputs": [],
   "source": [
    "expected_event_per_visitor = (event_stats['event'] * event_stats['count']).sum()"
   ]
  },
  {
   "cell_type": "code",
   "execution_count": 77,
   "metadata": {},
   "outputs": [
    {
     "name": "stdout",
     "output_type": "stream",
     "text": [
      "Expected number of events per visitor : 1.9580421716705267\n"
     ]
    }
   ],
   "source": [
    "print(f\"Expected number of events per visitor : {expected_event_per_visitor}\")"
   ]
  },
  {
   "cell_type": "code",
   "execution_count": 155,
   "metadata": {},
   "outputs": [],
   "source": [
    "# visitor distributions per event type \n",
    "\n",
    "\n",
    "view_visitors = events[events.event == 'view'].visitorid.unique() \n",
    "\n",
    "addtocart_visitors = events[events.event == 'addtocart'].visitorid.unique() \n",
    "\n",
    "transaction_visitors = events[events.event == 'transaction'].visitorid.unique() "
   ]
  },
  {
   "cell_type": "code",
   "execution_count": 84,
   "metadata": {},
   "outputs": [],
   "source": [
    "# general CR in terms of addtocart and transactions \n",
    "\n",
    "number_of_addtocart_visitors = len(addtocart_visitors) \n",
    "\n",
    "number_of_transaction_visitors = len(transaction_visitors) \n",
    "\n",
    "number_of_view_visitors = len(view_visitors)\n",
    "\n",
    "CR_addtocart = number_of_addtocart_visitors / number_of_view_visitors\n",
    "\n",
    "CR_transaction = number_of_transaction_visitors / number_of_view_visitors \n",
    "\n",
    "bounce_rate = number_of_transaction_visitors / number_of_addtocart_visitors "
   ]
  },
  {
   "cell_type": "code",
   "execution_count": 86,
   "metadata": {},
   "outputs": [
    {
     "name": "stdout",
     "output_type": "stream",
     "text": [
      "Number of vistors (view) : 1404179 \n",
      " \n",
      "          Number of visitors (addtocart) : 37722 \n",
      " \n",
      "\n",
      "          Number of visitors (transactions) : 11719\n",
      "\n",
      "\n",
      "\n"
     ]
    }
   ],
   "source": [
    "print(f\"\"\"Number of vistors (view) : {number_of_view_visitors} \\n \n",
    "          Number of visitors (addtocart) : {number_of_addtocart_visitors} \\n \n",
    "\n",
    "          Number of visitors (transactions) : {number_of_transaction_visitors}\n",
    "\n",
    "\n",
    "\"\"\")"
   ]
  },
  {
   "cell_type": "code",
   "execution_count": 87,
   "metadata": {},
   "outputs": [
    {
     "name": "stdout",
     "output_type": "stream",
     "text": [
      "CR(Add to cart) : 0.026864096386571796 , \n",
      " CR(transaction) : 0.008345802066545647 \n",
      " bounce rate : 0.6893324850220031\n"
     ]
    }
   ],
   "source": [
    "print(f\"CR(Add to cart) : {CR_addtocart} , \\n CR(transaction) : {CR_transaction} \\n bounce rate : {1- bounce_rate}\")"
   ]
  },
  {
   "cell_type": "markdown",
   "metadata": {},
   "source": [
    "### General CR \n",
    "\n",
    "- add to cart rate is around 2% is lower taking into account the number of unique visitors and number of unique products. One of the most probable reasons might be one timers who visit the website by advertisement as the number of visitors with one event is high. They might click the product on social networks, search engines and redirected to the main website. However they are not making any purchase or any events on the website ! It might be caused by advertisements and campaigns ! \n",
    "\n",
    "- CR rate is very low as well: it should be increased using personalization techniques and proper advertising \n",
    "\n",
    "bounce rate (a visitor adding the product into the basket but not making purchase)  is very high (70%) ! it may sign that the users can not make selection among the huge number of options . In this case also proper personalization on product detail page and add to cart page should be handled! "
   ]
  },
  {
   "cell_type": "markdown",
   "metadata": {},
   "source": [
    "# CR in terms of unique visitor ids  "
   ]
  },
  {
   "cell_type": "code",
   "execution_count": 168,
   "metadata": {},
   "outputs": [],
   "source": [
    "# import modules  \n",
    "\n",
    "from utils.converters import convert_to_list\n",
    "from utils.conversion import VisitorCR"
   ]
  },
  {
   "cell_type": "code",
   "execution_count": 157,
   "metadata": {},
   "outputs": [],
   "source": [
    "# format visitors \n",
    "\n",
    "transaction_visitors = convert_to_list(transaction_visitors) \n",
    "\n",
    "addtocart_visitors = convert_to_list(addtocart_visitors) \n",
    "\n",
    "view_visitors = convert_to_list(view_visitors)"
   ]
  },
  {
   "cell_type": "code",
   "execution_count": 169,
   "metadata": {},
   "outputs": [],
   "source": [
    "visitor_cr = VisitorCR(view_visitors, addtocart_visitors, transaction_visitors)"
   ]
  },
  {
   "cell_type": "code",
   "execution_count": 170,
   "metadata": {},
   "outputs": [],
   "source": [
    "# conversion stats \n",
    "\n",
    "visitor_to_addtocart = visitor_cr.cr_visitors_to_addtocart()\n",
    "visitors_to_purchae = visitor_cr.cr_visitors_to_purchase()\n",
    "addtocart_to_purchase = visitor_cr.cr_addtocart_to_purchase()\n",
    "neveractives = visitor_cr.visitors_only() / len(view_visitors)"
   ]
  },
  {
   "cell_type": "code",
   "execution_count": 171,
   "metadata": {},
   "outputs": [
    {
     "name": "stdout",
     "output_type": "stream",
     "text": [
      "\n",
      "    Visitors to Addtocart : 0.024499013302435087 \n",
      "    Visitors to Purchase: 0.008040997622098037 \n",
      "    Addtocart to Purchase: 0.28036689465033665\n",
      "    NeverActives : 0.9755009866975649\n",
      "\n",
      "\n",
      "\n"
     ]
    }
   ],
   "source": [
    "print(f\"\"\"\n",
    "    Visitors to Addtocart : {visitor_to_addtocart} \n",
    "    Visitors to Purchase: {visitors_to_purchae} \n",
    "    Addtocart to Purchase: {addtocart_to_purchase}\n",
    "    NeverActives : {neveractives}\n",
    "\n",
    "\n",
    "\"\"\" )"
   ]
  },
  {
   "cell_type": "markdown",
   "metadata": {},
   "source": [
    "### Insights \n",
    "\n",
    "- 2% of visitors are engaged in terms of add to carts \n",
    "- 0.8% of visitors are converted to customers \n",
    "- 72% of visitors who added to basket not purchased (Cart Abandonment Rate is high) \n",
    "- 98% of visitors are never actives (never made any purchase)\n",
    "\n",
    "Those statistics state that visitors are not engaged in the products and can not converted into customers ! \n",
    "\n",
    "Thus personalization strategies with recommendation engines should be employed to increase conversion rate and decrease Cart Abandonment Rate! \n"
   ]
  },
  {
   "cell_type": "markdown",
   "metadata": {},
   "source": []
  }
 ],
 "metadata": {
  "kernelspec": {
   "display_name": "recommenders",
   "language": "python",
   "name": "python3"
  },
  "language_info": {
   "codemirror_mode": {
    "name": "ipython",
    "version": 3
   },
   "file_extension": ".py",
   "mimetype": "text/x-python",
   "name": "python",
   "nbconvert_exporter": "python",
   "pygments_lexer": "ipython3",
   "version": "3.13.2"
  }
 },
 "nbformat": 4,
 "nbformat_minor": 2
}
